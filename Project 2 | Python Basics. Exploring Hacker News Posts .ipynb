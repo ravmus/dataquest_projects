{
 "cells": [
  {
   "cell_type": "markdown",
   "metadata": {},
   "source": [
    "#  Exploring Hacker News Posts \n",
    "---\n",
    "__Columns description:__\n",
    "- `id`: The unique identifier from Hacker News for the post\n",
    "- `title`: The title of the post\n",
    "- `url`: The URL that the posts links to, if it the post has a URL\n",
    "- `num_points`: The number of points the post acquired, calculated as the total number of upvotes minus the total number of downvotes\n",
    "- `num_comments`: The number of comments that were made on the post\n",
    "- `author`: The username of the person who submitted the post\n",
    "- `created_at`: The date and time at which the post was submitted"
   ]
  },
  {
   "cell_type": "markdown",
   "metadata": {},
   "source": [
    "## Preparing and exploring data\n",
    "---"
   ]
  },
  {
   "cell_type": "code",
   "execution_count": 1,
   "metadata": {},
   "outputs": [],
   "source": [
    "opened_file = open('hacker_news.csv', encoding=\"utf8\")\n",
    "from csv import reader\n",
    "read_file = reader(opened_file)\n",
    "hn = list(read_file)\n",
    "\n",
    "import datetime as dt"
   ]
  },
  {
   "cell_type": "code",
   "execution_count": 2,
   "metadata": {},
   "outputs": [],
   "source": [
    "def explore_data(dataset, start, end, rows=False, columns=False):\n",
    "    '''This funstion helps to exprlore dataset. \n",
    "    dataset – name of the dataset\n",
    "    start, end – put indices of rows that you want to look at\n",
    "    rows – shows number of rows in the dataset\n",
    "    columns – shows number of columns in the dataset\n",
    "    '''\n",
    "    dataset_slice = dataset[start:end]    \n",
    "    for row in dataset_slice:\n",
    "        print(row)\n",
    "        \n",
    "    if rows:\n",
    "        print('')\n",
    "        print('Number of rows:', len(dataset))\n",
    "    if columns:\n",
    "        print('Number of columns:', len(dataset[0]))"
   ]
  },
  {
   "cell_type": "code",
   "execution_count": 3,
   "metadata": {},
   "outputs": [
    {
     "name": "stdout",
     "output_type": "stream",
     "text": [
      "['id', 'title', 'url', 'num_points', 'num_comments', 'author', 'created_at']\n",
      "['12224879', 'Interactive Dynamic Video', 'http://www.interactivedynamicvideo.com/', '386', '52', 'ne0phyte', '8/4/2016 11:52']\n",
      "\n",
      "Number of rows: 20100\n",
      "Number of columns: 7\n"
     ]
    }
   ],
   "source": [
    "explore_data(hn, 0, 2, True, True)"
   ]
  },
  {
   "cell_type": "code",
   "execution_count": 4,
   "metadata": {},
   "outputs": [],
   "source": [
    "# split dataset up into headlist and list with values\n",
    "headers = hn[0]\n",
    "hn = hn [1:]"
   ]
  },
  {
   "cell_type": "code",
   "execution_count": 5,
   "metadata": {},
   "outputs": [
    {
     "name": "stdout",
     "output_type": "stream",
     "text": [
      "['12224879', 'Interactive Dynamic Video', 'http://www.interactivedynamicvideo.com/', '386', '52', 'ne0phyte', '8/4/2016 11:52']\n",
      "['11964716', \"Florida DJs May Face Felony for April Fools' Water Joke\", 'http://www.thewire.com/entertainment/2013/04/florida-djs-april-fools-water-joke/63798/', '2', '1', 'vezycash', '6/23/2016 22:20']\n",
      "\n",
      "Number of rows: 20099\n",
      "Number of columns: 7\n"
     ]
    }
   ],
   "source": [
    "explore_data(hn, 0, 2, True, True)"
   ]
  },
  {
   "cell_type": "markdown",
   "metadata": {},
   "source": [
    "## Problem 1: which posts are more engaging among community?\n",
    "---\n",
    "We know that there are two major categories of the posts 'Ask HN' and 'Show HN'.\n",
    "We can split up our dataset by three categories and create three differents lists: \n",
    "- __`ask_posts`__ – ssers submit Ask HN posts to ask the Hacker News community a specific question\n",
    "- __`show_posts`__ – users submit Show HN posts to show the Hacker News community a project, product, or just generally something interesting. \n",
    "- __`other_posts`__ – other posts"
   ]
  },
  {
   "cell_type": "code",
   "execution_count": 6,
   "metadata": {},
   "outputs": [],
   "source": [
    "ask_posts = []\n",
    "show_posts = []\n",
    "other_posts = []\n",
    "\n",
    "for row in hn:\n",
    "    title = row[1]\n",
    "    title = title.lower()\n",
    "    if title.startswith('ask hn'):\n",
    "        ask_posts.append(row)\n",
    "    elif title.startswith('show hn'):\n",
    "        show_posts.append(row)\n",
    "    else:\n",
    "        other_posts.append(row)"
   ]
  },
  {
   "cell_type": "markdown",
   "metadata": {},
   "source": [
    "----\n",
    "#### Cheking that the data was splited up correctly:"
   ]
  },
  {
   "cell_type": "code",
   "execution_count": 7,
   "metadata": {},
   "outputs": [
    {
     "name": "stdout",
     "output_type": "stream",
     "text": [
      "\n",
      "Number of rows: 1744\n",
      "Number of columns: 7\n"
     ]
    }
   ],
   "source": [
    "explore_data(ask_posts, 0, 0, True, True)"
   ]
  },
  {
   "cell_type": "code",
   "execution_count": 8,
   "metadata": {},
   "outputs": [
    {
     "name": "stdout",
     "output_type": "stream",
     "text": [
      "\n",
      "Number of rows: 1162\n",
      "Number of columns: 7\n"
     ]
    }
   ],
   "source": [
    "explore_data(show_posts, 0, 0, True, True)"
   ]
  },
  {
   "cell_type": "code",
   "execution_count": 9,
   "metadata": {
    "scrolled": false
   },
   "outputs": [
    {
     "name": "stdout",
     "output_type": "stream",
     "text": [
      "\n",
      "Number of rows: 17193\n",
      "Number of columns: 7\n"
     ]
    }
   ],
   "source": [
    "explore_data(other_posts, 0, 0, True, True)"
   ]
  },
  {
   "cell_type": "markdown",
   "metadata": {},
   "source": [
    "---\n",
    "#### Anayzing data:"
   ]
  },
  {
   "cell_type": "code",
   "execution_count": 10,
   "metadata": {},
   "outputs": [
    {
     "name": "stdout",
     "output_type": "stream",
     "text": [
      "Total number of comments on ask posts:  24483\n"
     ]
    }
   ],
   "source": [
    "total_ask_comments = 0\n",
    "\n",
    "for row in ask_posts:\n",
    "    num_comments = row[4]\n",
    "    num_comments = int(num_comments)\n",
    "    total_ask_comments += num_comments\n",
    "\n",
    "print('Total number of comments on ask posts: {: .0f}'.format(total_ask_comments) )"
   ]
  },
  {
   "cell_type": "code",
   "execution_count": 11,
   "metadata": {},
   "outputs": [
    {
     "name": "stdout",
     "output_type": "stream",
     "text": [
      "Average number of comments on ask posts:  14\n"
     ]
    }
   ],
   "source": [
    "avg_ask_comments = total_ask_comments / len(ask_posts)\n",
    "print('Average number of comments on ask posts: {: .0f}'.format(avg_ask_comments) )"
   ]
  },
  {
   "cell_type": "code",
   "execution_count": 12,
   "metadata": {},
   "outputs": [],
   "source": [
    "total_show_comments = 0 \n",
    "\n",
    "for row in show_posts:\n",
    "    num_comments = row[4]\n",
    "    num_comments = int(num_comments)\n",
    "    total_show_comments += num_comments"
   ]
  },
  {
   "cell_type": "code",
   "execution_count": 13,
   "metadata": {},
   "outputs": [
    {
     "name": "stdout",
     "output_type": "stream",
     "text": [
      "Total number of comments in show posts:  11988\n"
     ]
    }
   ],
   "source": [
    "print('Total number of comments in show posts: {: .0f}'.format(total_show_comments) )"
   ]
  },
  {
   "cell_type": "code",
   "execution_count": 14,
   "metadata": {},
   "outputs": [
    {
     "name": "stdout",
     "output_type": "stream",
     "text": [
      "Average number of comments in show posts:  10\n"
     ]
    }
   ],
   "source": [
    "avg_show_comments = total_show_comments / len(show_posts)\n",
    "print('Average number of comments in show posts: {: .0f}'.format(avg_show_comments) )"
   ]
  },
  {
   "cell_type": "markdown",
   "metadata": {},
   "source": [
    "#### Hypothesis:\n",
    "We see that __`Ask hn` posts are more engaging than `Show hn`.__ <br>\n",
    "We can suggest that users love to help others and share their experince more than just express emotions and ideas about something new."
   ]
  },
  {
   "cell_type": "markdown",
   "metadata": {},
   "source": [
    "## Problem 2: what time is more preferable for posting to gain more comments?\n",
    "---\n",
    "\n",
    "Firstly we can find number of commnets per hour and number of post per hour \n",
    "To do that I'll create a two dictionaries:"
   ]
  },
  {
   "cell_type": "markdown",
   "metadata": {},
   "source": [
    "#### option 1\n",
    "---"
   ]
  },
  {
   "cell_type": "code",
   "execution_count": 15,
   "metadata": {},
   "outputs": [],
   "source": [
    "dt_format_hn = '%m/%d/%Y %H:%M'\n",
    "\n",
    "result_list =[]\n",
    "\n",
    "for row in ask_posts:\n",
    "    \n",
    "    time = row[6]\n",
    "    num_com = row[4]\n",
    "    num_com = str(num_com)\n",
    "    result_list.append([time, num_com])\n",
    "    \n",
    "### dictionaries woth results    \n",
    "counts_by_hour = {}\n",
    "comments_by_hour = {}\n",
    "\n",
    "### lopping prepared list woth data    \n",
    "for i in result_list:\n",
    "    time = i[0]\n",
    "    time = dt.datetime.strptime(time, dt_format_hn)\n",
    "    hour = dt.datetime.strftime(time, '%H')\n",
    "    \n",
    "    if hour in counts_by_hour:\n",
    "        counts_by_hour[hour] += 1    \n",
    "    else:\n",
    "        counts_by_hour[hour] = 1\n",
    "        \n",
    "    num_comm = int(i[1])\n",
    "    \n",
    "    if hour in comments_by_hour:\n",
    "        comments_by_hour[hour] += num_comm\n",
    "    else:\n",
    "        comments_by_hour[hour] = num_comm"
   ]
  },
  {
   "cell_type": "markdown",
   "metadata": {},
   "source": [
    "#### option 2\n",
    "---"
   ]
  },
  {
   "cell_type": "code",
   "execution_count": 16,
   "metadata": {},
   "outputs": [],
   "source": [
    "dt_format_hn = '%m/%d/%Y %H:%M'\n",
    "\n",
    "### dictionaries woth results    \n",
    "\n",
    "counts_by_hour = {}\n",
    "comments_by_hour = {}\n",
    "\n",
    "### ask_posts dataset list woth data    \n",
    "for i in ask_posts:\n",
    "    time = i[6]\n",
    "    time = dt.datetime.strptime(time, dt_format_hn)\n",
    "    hour = dt.datetime.strftime(time, '%H')\n",
    "    \n",
    "    if hour in counts_by_hour:\n",
    "        counts_by_hour[hour] += 1    \n",
    "    else:\n",
    "        counts_by_hour[hour] = 1\n",
    "        \n",
    "    num_comm = int(i[4])\n",
    "    \n",
    "    if hour in comments_by_hour:\n",
    "        comments_by_hour[hour] += num_comm\n",
    "    else:\n",
    "        comments_by_hour[hour] = num_comm"
   ]
  },
  {
   "cell_type": "markdown",
   "metadata": {},
   "source": [
    "The next step is to find __the average number of comments per post for posts created during each hour of the day__. \n",
    "\n",
    "To do that I'll transfer data from dictionaries to one list `avg_by_hour` with two collumns:\n",
    "- hour\n",
    "- number of comments"
   ]
  },
  {
   "cell_type": "code",
   "execution_count": 17,
   "metadata": {},
   "outputs": [],
   "source": [
    "avg_by_hour = []\n",
    "\n",
    "for hour in comments_by_hour:\n",
    "    avg_by_hour.append([hour, \n",
    "                        comments_by_hour[hour] / counts_by_hour[hour] ])"
   ]
  },
  {
   "cell_type": "code",
   "execution_count": 18,
   "metadata": {},
   "outputs": [
    {
     "data": {
      "text/plain": [
       "[['09', 5.5777777777777775],\n",
       " ['13', 14.741176470588234],\n",
       " ['10', 13.440677966101696]]"
      ]
     },
     "execution_count": 18,
     "metadata": {},
     "output_type": "execute_result"
    }
   ],
   "source": [
    "avg_by_hour[:3]"
   ]
  },
  {
   "cell_type": "markdown",
   "metadata": {},
   "source": [
    "After I've decided to sort data in `avg_by_hour` by number of comments:"
   ]
  },
  {
   "cell_type": "code",
   "execution_count": 19,
   "metadata": {},
   "outputs": [],
   "source": [
    "swap_avg_by_hour = []\n",
    "\n",
    "for i in avg_by_hour:\n",
    "    first = i[0]\n",
    "    second = i[1]\n",
    "    swap_avg_by_hour.append([second, first])"
   ]
  },
  {
   "cell_type": "code",
   "execution_count": 20,
   "metadata": {},
   "outputs": [
    {
     "data": {
      "text/plain": [
       "[[5.5777777777777775, '09'],\n",
       " [14.741176470588234, '13'],\n",
       " [13.440677966101696, '10']]"
      ]
     },
     "execution_count": 20,
     "metadata": {},
     "output_type": "execute_result"
    }
   ],
   "source": [
    "swap_avg_by_hour[:3]"
   ]
  },
  {
   "cell_type": "code",
   "execution_count": 21,
   "metadata": {},
   "outputs": [],
   "source": [
    "sorted_swap = sorted(swap_avg_by_hour, key = lambda comments: comments[0], reverse = True)"
   ]
  },
  {
   "cell_type": "code",
   "execution_count": 22,
   "metadata": {},
   "outputs": [
    {
     "data": {
      "text/plain": [
       "[[38.5948275862069, '15'], [23.810344827586206, '02'], [21.525, '20']]"
      ]
     },
     "execution_count": 22,
     "metadata": {},
     "output_type": "execute_result"
    }
   ],
   "source": [
    "sorted_swap[:3]"
   ]
  },
  {
   "cell_type": "markdown",
   "metadata": {},
   "source": [
    "# Top 5 Hours for Ask Posts Comments\n",
    "---\n",
    "\n",
    "Here I showed _'ideal hours'_ for posting in case if user wants to make a high-engaging post. "
   ]
  },
  {
   "cell_type": "code",
   "execution_count": 23,
   "metadata": {},
   "outputs": [
    {
     "name": "stdout",
     "output_type": "stream",
     "text": [
      "00:00 ●●●●●●●●\n",
      "01:00 ●●●●●●●●●●●\n",
      "02:00 ●●●●●●●●●●●●●●●●●●●●●●●\n",
      "03:00 ●●●●●●●\n",
      "04:00 ●●●●●●●\n",
      "05:00 ●●●●●●●●●●\n",
      "06:00 ●●●●●●●●●\n",
      "07:00 ●●●●●●●\n",
      "08:00 ●●●●●●●●●●\n",
      "09:00 ●●●●●\n",
      "10:00 ●●●●●●●●●●●●●\n",
      "11:00 ●●●●●●●●●●●\n",
      "12:00 ●●●●●●●●●\n",
      "13:00 ●●●●●●●●●●●●●●\n",
      "14:00 ●●●●●●●●●●●●●\n",
      "15:00 ●●●●●●●●●●●●●●●●●●●●●●●●●●●●●●●●●●●●●●\n",
      "16:00 ●●●●●●●●●●●●●●●●\n",
      "17:00 ●●●●●●●●●●●\n",
      "18:00 ●●●●●●●●●●●●●\n",
      "19:00 ●●●●●●●●●●\n",
      "20:00 ●●●●●●●●●●●●●●●●●●●●●\n",
      "21:00 ●●●●●●●●●●●●●●●●\n",
      "22:00 ●●●●●●\n",
      "23:00 ●●●●●●●\n"
     ]
    }
   ],
   "source": [
    "sorted_avg = sorted(avg_by_hour)\n",
    "\n",
    "for i in sorted_avg:\n",
    "    time = i[0]\n",
    "    time = dt.datetime.strptime(time, '%H')\n",
    "    hour = dt.datetime.strftime(time, '%H:%M')\n",
    "    com = i[1]\n",
    "    print(hour, '●' * int(com))"
   ]
  },
  {
   "cell_type": "markdown",
   "metadata": {},
   "source": [
    "If we look at the data cerefuly, we may notice that there are three hour peaks, when users leave comments on posts:"
   ]
  },
  {
   "cell_type": "code",
   "execution_count": 24,
   "metadata": {
    "scrolled": true
   },
   "outputs": [
    {
     "name": "stdout",
     "output_type": "stream",
     "text": [
      "15:00 ●●●●●●●●●●●●●●●●●●●●●●●●●●●●●●●●●●●●●●\n",
      "02:00 ●●●●●●●●●●●●●●●●●●●●●●●\n",
      "20:00 ●●●●●●●●●●●●●●●●●●●●●\n",
      "16:00 ●●●●●●●●●●●●●●●●\n",
      "21:00 ●●●●●●●●●●●●●●●●\n"
     ]
    }
   ],
   "source": [
    "for row in sorted_swap[:5]:\n",
    "    time = row[1]\n",
    "    time = dt.datetime.strptime(time, '%H')\n",
    "    hour = dt.datetime.strftime(time, '%H:%M')\n",
    "    com = row[0]\n",
    "    print(hour, '●' * int(com))"
   ]
  },
  {
   "cell_type": "code",
   "execution_count": 25,
   "metadata": {},
   "outputs": [
    {
     "name": "stdout",
     "output_type": "stream",
     "text": [
      "15:00 :  38.59\n",
      "02:00 :  23.81\n",
      "20:00 :  21.52\n",
      "16:00 :  16.80\n",
      "21:00 :  16.01\n"
     ]
    }
   ],
   "source": [
    "for row in sorted_swap[:5]:\n",
    "    time = row[1]\n",
    "    time = dt.datetime.strptime(time, '%H')\n",
    "    hour = dt.datetime.strftime(time, '%H:%M')\n",
    "    com = row[0]\n",
    "    print('{} : {: .2f}'.format(hour, com))"
   ]
  },
  {
   "cell_type": "markdown",
   "metadata": {},
   "source": [
    "So the ideal time for posting is 3 p.m., \n",
    "but if you are busy at work you can do it after around 8 p.m. or 2 a.m."
   ]
  },
  {
   "cell_type": "markdown",
   "metadata": {},
   "source": [
    "---"
   ]
  }
 ],
 "metadata": {
  "kernelspec": {
   "display_name": "Python 3",
   "language": "python",
   "name": "python3"
  },
  "language_info": {
   "codemirror_mode": {
    "name": "ipython",
    "version": 3
   },
   "file_extension": ".py",
   "mimetype": "text/x-python",
   "name": "python",
   "nbconvert_exporter": "python",
   "pygments_lexer": "ipython3",
   "version": "3.7.3"
  }
 },
 "nbformat": 4,
 "nbformat_minor": 2
}
